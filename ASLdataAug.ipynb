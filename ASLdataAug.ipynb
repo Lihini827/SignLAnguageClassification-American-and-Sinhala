{
  "nbformat": 4,
  "nbformat_minor": 0,
  "metadata": {
    "colab": {
      "provenance": [],
      "gpuType": "T4"
    },
    "kernelspec": {
      "name": "python3",
      "display_name": "Python 3"
    },
    "language_info": {
      "name": "python"
    },
    "accelerator": "GPU"
  },
  "cells": [
    {
      "cell_type": "code",
      "execution_count": null,
      "metadata": {
        "colab": {
          "base_uri": "https://localhost:8080/"
        },
        "id": "AYUJh6aKtHcY",
        "outputId": "ece86a66-b344-4852-d30f-de2bb0124edb"
      },
      "outputs": [
        {
          "output_type": "stream",
          "name": "stdout",
          "text": [
            "Mounted at /content/drive\n"
          ]
        }
      ],
      "source": [
        "from google.colab import drive\n",
        "drive.mount('/content/drive')"
      ]
    },
    {
      "cell_type": "code",
      "source": [
        "from PIL import Image\n",
        "from imgaug import augmenters as iaa\n",
        "import numpy as np\n",
        "import glob,os,cv2\n",
        "\n",
        "import warnings\n",
        "warnings.filterwarnings('ignore')"
      ],
      "metadata": {
        "id": "HC1ZCvDWtV2l"
      },
      "execution_count": null,
      "outputs": []
    },
    {
      "cell_type": "code",
      "source": [
        "path_parent = '/content/drive/MyDrive/ASL Sign/GrayImagesSplitdataset/train/*'\n",
        "path_parent = os.path.dirname(os.path.abspath(path_parent)) + '/'\n",
        "dirs_parent = os.listdir(path_parent)"
      ],
      "metadata": {
        "id": "oEQhROnaFgrx"
      },
      "execution_count": null,
      "outputs": []
    },
    {
      "cell_type": "code",
      "source": [
        "for item_parent in dirs_parent:\n",
        "    print(item_parent)\n",
        "\n",
        "    path = '/content/drive/MyDrive/ASL Sign/GrayImagesSplitdataset/train/'+item_parent+'/*'\n",
        "    path = os.path.dirname(os.path.abspath(path)) + '/'\n",
        "    dirs = os.listdir(path)"
      ],
      "metadata": {
        "colab": {
          "base_uri": "https://localhost:8080/"
        },
        "id": "AMW9DHf9Fjvw",
        "outputId": "6ea8b351-b0b6-4fd5-bc33-f6896382e406"
      },
      "execution_count": null,
      "outputs": [
        {
          "output_type": "stream",
          "name": "stdout",
          "text": [
            "Y\n"
          ]
        }
      ]
    },
    {
      "cell_type": "code",
      "source": [
        "    for item in dirs:\n",
        "        if (os.path.isfile(path+item)) & ('png' in item):\n",
        "            im = Image.open(path+item)\n",
        "            if im.mode !='RGB':\n",
        "                im = im.convert('RGB')\n",
        "            imResize = im.resize((250,250),Image.ANTIALIAS)\n",
        "            imResize.save(path+item,'JPEG',quality = 90)\n",
        "    fps = glob.glob(path+'*')\n",
        "    images = np.array(\n",
        "        [cv2.cvtColor(cv2.imread(fp),cv2.COLOR_BGR2RGB) for fp in fps],\n",
        "        dtype = np.uint8\n",
        "    )"
      ],
      "metadata": {
        "id": "BEdrkcluFnfv"
      },
      "execution_count": null,
      "outputs": []
    },
    {
      "cell_type": "code",
      "source": [
        "    #======Crop,GaussianBlur,Contrast,Gaussian Noise, Lightness, Affine(rigbody transform+shear)===================\n",
        "    #Link to understand Image Augmentation : https://imgaug.readthedocs.io/en/latest/source/examples_basics.html\n",
        "    seq = iaa.Sequential([  #https://imgaug.readthedocs.io/en/latest/source/api_augmenters_meta.html#imgaug.augmenters.meta.Sequential\n",
        "    iaa.Fliplr(1.0),#horizontal flips(https://imgaug.readthedocs.io/en/latest/source/api_augmenters_flip.html)\n",
        "    iaa.Crop(percent = (0,0.1)),#random crops (https://imgaug.readthedocs.io/en/latest/source/api_augmenters_size.html#imgaug.augmenters.size.Crop)\n",
        "    iaa.Sometimes(0.5, #gaussian blur with random sigma 0-0.5 in half(50% of images-Sometimes) of images (https://imgaug.readthedocs.io/en/latest/source/api_augmenters_meta.html#imgaug.augmenters.meta.Sometimes)\n",
        "        iaa.GaussianBlur(sigma=(0,0.5)) #(https://imgaug.readthedocs.io/en/latest/source/api_augmenters_blur.html#imgaug.augmenters.blur.GaussianBlur)\n",
        "    ),\n",
        "    iaa.ContrastNormalization((0.75,1.5)),#strengthen or weaken the contrast in each image(https://imgaug.readthedocs.io/en/latest/source/api_augmenters_arithmetic.html#imgaug.augmenters.arithmetic.ContrastNormalization)\n",
        "    iaa.AdditiveGaussianNoise(loc=0,scale=(0.0,0.05*255),per_channel=0.5),#add gaussian Noise\n",
        "    iaa.Multiply((0.8,1.2),per_channel=0.2),#configure Lightness(https://imgaug.readthedocs.io/en/latest/source/api_augmenters_arithmetic.html#imgaug.augmenters.arithmetic.Multiply)\n",
        "\n",
        "    #https://imgaug.readthedocs.io/en/latest/source/api_augmenters_geometric.html#imgaug.augmenters.geometric.Affine\n",
        "    iaa.Affine(    #Affine Transform : Scale/Zoom them, translate/move them, rotate them and shear them)\n",
        "        scale={\"x\":(0.8,1.2),\"y\":(0.8,1.2)},\n",
        "        translate_percent={\"x\":(-0.2,0.2),\"y\":(-0.2,0.2)},\n",
        "        rotate=(-25,25),\n",
        "        shear=(-8,8))\n",
        "    ],random_order=True) #apply augmenters in random random_order"
      ],
      "metadata": {
        "id": "XWlhhVnyFsPK"
      },
      "execution_count": null,
      "outputs": []
    },
    {
      "cell_type": "code",
      "source": [
        "aug_times = 1\n",
        "\n",
        "\n",
        "for times in range(aug_times):\n",
        "  images_aug = seq(images=images)\n",
        "\n",
        "  i=0\n",
        "  for img in images_aug:\n",
        "    cv2.imwrite(os.path.join( path,f'{times}'+'Augmented_'+os.path.basename(fps[i])),cv2.cvtColor(img,cv2.COLOR_BGR2RGB))\n",
        "    i+=1"
      ],
      "metadata": {
        "id": "-ad6wch0FshP"
      },
      "execution_count": null,
      "outputs": []
    }
  ]
}